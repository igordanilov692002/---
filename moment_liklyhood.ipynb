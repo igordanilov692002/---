{
  "cells": [
    {
      "cell_type": "markdown",
      "metadata": {
        "id": "view-in-github",
        "colab_type": "text"
      },
      "source": [
        "<a href=\"https://colab.research.google.com/github/igordanilov692002/---/blob/master/moment_liklyhood.ipynb\" target=\"_parent\"><img src=\"https://colab.research.google.com/assets/colab-badge.svg\" alt=\"Open In Colab\"/></a>"
      ]
    },
    {
      "cell_type": "code",
      "execution_count": null,
      "id": "1f7d393d-f808-45d7-a803-18e258aa5877",
      "metadata": {
        "id": "1f7d393d-f808-45d7-a803-18e258aa5877"
      },
      "outputs": [],
      "source": [
        "import warnings\n",
        "warnings.filterwarnings(\"ignore\")\n"
      ]
    },
    {
      "cell_type": "markdown",
      "id": "8ac72170-9a7b-471b-98c7-516c76aa04a0",
      "metadata": {
        "id": "8ac72170-9a7b-471b-98c7-516c76aa04a0"
      },
      "source": [
        "## задание 1"
      ]
    },
    {
      "cell_type": "markdown",
      "id": "ed6aa5ec-7767-4886-bd85-998ac30cd3b4",
      "metadata": {
        "id": "ed6aa5ec-7767-4886-bd85-998ac30cd3b4"
      },
      "source": [
        "Задание:\n",
        "Сгенерировать выборку из равномерного на  [𝑎,𝑏]  распределения. Построить оценки  𝑎̂ ,  𝑏̂  с помощью метода моментов."
      ]
    },
    {
      "cell_type": "code",
      "execution_count": null,
      "id": "09488641-a5f1-4c1c-9679-09375ef47773",
      "metadata": {
        "id": "09488641-a5f1-4c1c-9679-09375ef47773"
      },
      "outputs": [],
      "source": [
        "import numpy as np\n"
      ]
    },
    {
      "cell_type": "code",
      "execution_count": null,
      "id": "91727399-b436-43f3-a4d2-0eb12a213f54",
      "metadata": {
        "id": "91727399-b436-43f3-a4d2-0eb12a213f54"
      },
      "outputs": [],
      "source": [
        "a = 2\n",
        "b = 6\n",
        "n = 100\n",
        "sample = np.random.uniform(low=a, high=b, size=n)"
      ]
    },
    {
      "cell_type": "markdown",
      "id": "2e76b6a6-5db0-4c67-a29b-bf8a8ecc87f1",
      "metadata": {
        "id": "2e76b6a6-5db0-4c67-a29b-bf8a8ecc87f1"
      },
      "source": [
        "Зная выражения математического ожидания и дисперсии, запишем систему уравнений:\n",
        "\\begin{equation*}\n",
        " \\begin{cases}\n",
        "   \\frac{a+b}{2} = \\bar{x}, \\\\\n",
        "   \\frac{(b-a)^2}{12} = s^2\n",
        " \\end{cases}\n",
        "\\end{equation*}\n",
        "\n",
        "или\n",
        "\n",
        "\\begin{equation*}\n",
        " \\begin{cases}\n",
        "   a+b = 2\\bar{x}, \\\\\n",
        "   b-a = 2s\\sqrt{3}\n",
        " \\end{cases}\n",
        "\\end{equation*}\n",
        "\n",
        "Откуда получаем, что $\\hat{a} = \\bar{x} - s\\sqrt{3}$, $\\hat{b} = \\bar{x} + s\\sqrt{3}$."
      ]
    },
    {
      "cell_type": "code",
      "execution_count": null,
      "id": "c8701fa2-c989-4c93-8902-f5ecc3f71cce",
      "metadata": {
        "id": "c8701fa2-c989-4c93-8902-f5ecc3f71cce",
        "outputId": "ba79e091-500a-44ba-a78f-721b75caed3a"
      },
      "outputs": [
        {
          "name": "stdout",
          "output_type": "stream",
          "text": [
            "Оценка параметра среднего методом моментов: 4.133317845703998\n",
            "Оценка параметра дисперсии методом моментов: 1.5034198837422188\n"
          ]
        }
      ],
      "source": [
        "mean_moment_estimate = np.mean(sample)\n",
        "print(\"Оценка параметра среднего методом моментов:\", mean_moment_estimate)\n",
        "\n",
        "# Оценка параметра дисперсии методом моментов\n",
        "variance_moment_estimate = np.var(sample)\n",
        "print(\"Оценка параметра дисперсии методом моментов:\", variance_moment_estimate)"
      ]
    },
    {
      "cell_type": "code",
      "execution_count": null,
      "id": "378cc5f2-d1f5-4358-90b7-143c2b34e796",
      "metadata": {
        "id": "378cc5f2-d1f5-4358-90b7-143c2b34e796"
      },
      "outputs": [],
      "source": [
        "a_moment = mean_moment_estimate - variance_moment_estimate * np.sqrt(3)\n",
        "b_moment = mean_moment_estimate + variance_moment_estimate * np.sqrt(3)"
      ]
    },
    {
      "cell_type": "code",
      "execution_count": null,
      "id": "0197f190-ce39-4bd4-9434-b09b0fd219d4",
      "metadata": {
        "id": "0197f190-ce39-4bd4-9434-b09b0fd219d4",
        "outputId": "f97bf46f-b043-4b4d-bd90-2a15d7e475cf"
      },
      "outputs": [
        {
          "name": "stdout",
          "output_type": "stream",
          "text": [
            "значения найденные по методу моментов: 1.5293182219531807, 6.7373174694548155\n"
          ]
        }
      ],
      "source": [
        "print(f\"значения найденные по методу моментов: {a_moment}, {b_moment}\")"
      ]
    },
    {
      "cell_type": "markdown",
      "id": "366ff165-e982-4280-b99b-c49d3bff8a55",
      "metadata": {
        "id": "366ff165-e982-4280-b99b-c49d3bff8a55"
      },
      "source": [
        "## задание 2"
      ]
    },
    {
      "cell_type": "markdown",
      "id": "e381f0e2-3978-4108-b468-66f854929537",
      "metadata": {
        "id": "e381f0e2-3978-4108-b468-66f854929537"
      },
      "source": [
        "Задание\n",
        "1. По набору данных data, извлеченных из нормального распределения, оценить методом максимального правдоподобия параметры распределения\n",
        "2. Сгенерировать выборки, извлеченные из экспоненциального и равномерного распределения, и оценить с использованием метода максимального правдоподобия параметры распределений"
      ]
    },
    {
      "cell_type": "code",
      "execution_count": null,
      "id": "7c5ed93a-cfb5-4a39-ac70-a3a689f8cfb2",
      "metadata": {
        "jupyter": {
          "source_hidden": true
        },
        "id": "7c5ed93a-cfb5-4a39-ac70-a3a689f8cfb2"
      },
      "outputs": [],
      "source": [
        "data = np.array([ 2.85502495,  4.1990948 , 10.73646803, 10.05185133,  6.89549203,\n",
        "        7.58663692, 13.38832448,  4.04214306,  9.73548691,  5.98903674,\n",
        "        5.91159398, 12.49388426, 11.12708174, 11.06754818, 13.52739404,\n",
        "        7.10501921, 10.40976486,  5.44866622,  8.62083176,  6.34928473,\n",
        "        7.48497982,  9.97578513,  2.90889658, 17.46193638,  1.96991309,\n",
        "        0.92905694, 12.79055437, 10.95831347, 10.12059909, 10.14172755,\n",
        "        6.93876614,  2.51372814,  7.37902279,  3.61419144, 11.87559867,\n",
        "        6.26471309,  2.87251402,  5.39307079,  9.06465727,  4.18137724,\n",
        "        2.88889802,  8.21843606,  8.22483286,  4.46528412,  4.64480847,\n",
        "        8.16024969, -0.24042171, -0.03731887,  3.40777889,  5.93276424,\n",
        "        8.55453783, 14.37678108, 11.28829812,  6.20030735,  6.90491896,\n",
        "        1.98735318,  6.90743432,  5.55670681,  8.6135928 ,  2.86384528,\n",
        "        9.59673257, 14.66369457,  6.45619926,  9.00855861, 10.45071996,\n",
        "        4.99389764,  8.12046241,  7.062962  ,  7.48838049,  3.13495108,\n",
        "        7.12255087,  9.48999146, 14.25571804, 11.79635413, 17.76591229,\n",
        "        3.16326219, 11.36160318,  7.91671003, 17.94901467,  2.95850857,\n",
        "        2.80139079,  4.00303677, -3.61947862,  4.37122489,  3.20433669,\n",
        "        7.75196893,  8.70877988, 16.3808542 , 11.75211919,  4.11548172,\n",
        "        2.50792664,  9.45959586,  0.39883396, 16.15729383, 12.8972006 ,\n",
        "        4.65412174, -1.56567265, 13.76936187,  6.42730077, 13.18908156])"
      ]
    },
    {
      "cell_type": "code",
      "execution_count": null,
      "id": "ffba522c-7cc2-46ef-a7ba-6980a41f156e",
      "metadata": {
        "id": "ffba522c-7cc2-46ef-a7ba-6980a41f156e",
        "outputId": "0554f921-d9e6-4cf0-8ee0-3fee6463ab65"
      },
      "outputs": [
        {
          "name": "stdout",
          "output_type": "stream",
          "text": [
            "Максимально правдоподобные параметры:\n",
            "Mu: 7.534200660007598\n",
            "Sigma: 0.4398348939768199\n"
          ]
        }
      ],
      "source": [
        "import numpy as np\n",
        "from scipy.optimize import minimize\n",
        "\n",
        "# Функция правдоподобия для нормального распределния\n",
        "def likelihood(parameters, data):\n",
        "    mu = parameters[0]\n",
        "    sigma = parameters[1]\n",
        "    n = len(data)\n",
        "    # Вычисляем значение функции правдоподобия для данного набора параметров\n",
        "    log_likelihood = -np.sum(n * np.log(sigma) + n * 0.5*np.log(2*np.pi) + 0.5*((data - mu)/sigma)**2)\n",
        "    return -log_likelihood\n",
        "\n",
        "# Начальное приближение для оптимизации\n",
        "initial_guess = [0.5, 1.5]\n",
        "\n",
        "result = minimize(likelihood, initial_guess, args=(data))\n",
        "\n",
        "# Вывод результатов\n",
        "print(\"Максимально правдоподобные параметры:\")\n",
        "print(\"Mu:\", result.x[0])\n",
        "print(\"Sigma:\", result.x[1])"
      ]
    },
    {
      "cell_type": "code",
      "execution_count": null,
      "id": "db7b9e77-3795-408b-9804-333169d36c48",
      "metadata": {
        "id": "db7b9e77-3795-408b-9804-333169d36c48",
        "outputId": "239013a8-28b5-4ba0-b943-95365beecf8f"
      },
      "outputs": [
        {
          "name": "stdout",
          "output_type": "stream",
          "text": [
            "Оценка параметра lambda экспоненциального распределения:\n",
            "lambda_hat = -683629400192344.8\n"
          ]
        }
      ],
      "source": [
        "import numpy as np\n",
        "from scipy.optimize import minimize\n",
        "\n",
        "# Функция правдоподобия для экспоненциального распределения\n",
        "def likelihood_exponential(params, data):\n",
        "    lambda_ = params\n",
        "    n = len(data)\n",
        "    return n * np.log(lambda_) - lambda_ * np.sum(data)\n",
        "\n",
        "\n",
        "# Оценка параметра lambda экспоненциального распределения методом максимального правдоподобия\n",
        "result_exponential = minimize(likelihood_exponential, [5], args=(data))\n",
        "lambda_hat = result_exponential.x[0]\n",
        "\n",
        "print(\"Оценка параметра lambda экспоненциального распределения:\")\n",
        "print(f\"lambda_hat = {lambda_hat}\")\n"
      ]
    },
    {
      "cell_type": "markdown",
      "id": "6256fbb9-8ffa-4fc8-b960-aa28a5162aee",
      "metadata": {
        "id": "6256fbb9-8ffa-4fc8-b960-aa28a5162aee"
      },
      "source": [
        "В зависимости от начального приближения мы получаем разные значения параметра mu"
      ]
    },
    {
      "cell_type": "markdown",
      "id": "b828c7c6-108d-47c4-a79d-91f632d5ae1d",
      "metadata": {
        "id": "b828c7c6-108d-47c4-a79d-91f632d5ae1d"
      },
      "source": [
        "# Воспользуюсь встроенными функциями в scipy.stats"
      ]
    },
    {
      "cell_type": "code",
      "execution_count": null,
      "id": "2c55baff-ca6f-4b4e-a55f-51dad8ae2e4a",
      "metadata": {
        "id": "2c55baff-ca6f-4b4e-a55f-51dad8ae2e4a",
        "outputId": "a74844d1-16d1-43ac-f3ae-fe43ab28feea"
      },
      "outputs": [
        {
          "name": "stdout",
          "output_type": "stream",
          "text": [
            "Оценка параметра среднего методом максимального правдоподобия: 7.5342006038\n",
            "Оценка параметра дисперсии методом максимального правдоподобия: 4.398349013010075\n"
          ]
        }
      ],
      "source": [
        "from scipy.stats import norm\n",
        "\n",
        "# Оценка параметров среднего и дисперсии методом максимального правдоподобия\n",
        "mean_mle, variance_mle = norm.fit(data)\n",
        "print(\"Оценка параметра среднего методом максимального правдоподобия:\", mean_mle)\n",
        "print(\"Оценка параметра дисперсии методом максимального правдоподобия:\", variance_mle)"
      ]
    },
    {
      "cell_type": "code",
      "execution_count": null,
      "id": "58572ff0-85ee-4b4a-86cf-a3f2a874d96d",
      "metadata": {
        "id": "58572ff0-85ee-4b4a-86cf-a3f2a874d96d",
        "outputId": "e22fcfc9-14f7-49f4-b363-2d59f45ee7f6"
      },
      "outputs": [
        {
          "name": "stdout",
          "output_type": "stream",
          "text": [
            "Оценка параметра lambda экспоненциального распределения: 11.1536792238\n"
          ]
        }
      ],
      "source": [
        "from scipy.stats import expon\n",
        "\n",
        "scale_mle = expon.fit(data)[1]\n",
        "print(f\"Оценка параметра lambda экспоненциального распределения: {scale_mle}\")"
      ]
    },
    {
      "cell_type": "markdown",
      "id": "908e69e2-6430-4e2d-9946-74f06b254787",
      "metadata": {
        "id": "908e69e2-6430-4e2d-9946-74f06b254787"
      },
      "source": [
        "### Вывод:\n",
        "функция правдоподобия для экспонен. написанная самостоятельно страдает от начального приближения. Встроенная функция выдала 'адекватный' параметр. Что касается нормального распределения, то удалось получить точный параметр мат. ожидания, однако дисперсия отличается"
      ]
    }
  ],
  "metadata": {
    "kernelspec": {
      "display_name": "Python 3 (ipykernel)",
      "language": "python",
      "name": "python3"
    },
    "language_info": {
      "codemirror_mode": {
        "name": "ipython",
        "version": 3
      },
      "file_extension": ".py",
      "mimetype": "text/x-python",
      "name": "python",
      "nbconvert_exporter": "python",
      "pygments_lexer": "ipython3",
      "version": "3.9.6"
    },
    "colab": {
      "provenance": [],
      "include_colab_link": true
    }
  },
  "nbformat": 4,
  "nbformat_minor": 5
}